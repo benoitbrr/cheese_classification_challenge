{
  "nbformat": 4,
  "nbformat_minor": 0,
  "metadata": {
    "colab": {
      "provenance": []
    },
    "kernelspec": {
      "name": "python3",
      "display_name": "Python 3"
    },
    "language_info": {
      "name": "python"
    }
  },
  "cells": [
    {
      "cell_type": "code",
      "execution_count": null,
      "metadata": {
        "id": "P9ukcfSgQyhp"
      },
      "outputs": [],
      "source": [
        "from google.colab import drive\n",
        "drive.mount('/content/drive')"
      ]
    },
    {
      "cell_type": "code",
      "source": [
        "%cd /content/drive/MyDrive/cheese_classification_challenge-master"
      ],
      "metadata": {
        "id": "eIlCH03fRg7i"
      },
      "execution_count": null,
      "outputs": []
    },
    {
      "cell_type": "markdown",
      "source": [
        "# Requirements"
      ],
      "metadata": {
        "id": "IQVdxowBUTWT"
      }
    },
    {
      "cell_type": "code",
      "source": [
        "import PIL\n",
        "from PIL import Image\n",
        "import os\n",
        "from IPython.display import display\n",
        "import random\n",
        "import numpy as np\n",
        "from pathlib import Path"
      ],
      "metadata": {
        "id": "FF7fucLuRZEs"
      },
      "execution_count": null,
      "outputs": []
    },
    {
      "cell_type": "code",
      "source": [
        "!pip install -r requirements.txt\n",
        "!pip install google.cloud\n",
        "!pip install google.cloud.vision\n",
        "!pip install ultralytics\n",
        "!pip install xformers"
      ],
      "metadata": {
        "id": "-rmYMNYeRjQi"
      },
      "execution_count": null,
      "outputs": []
    },
    {
      "cell_type": "markdown",
      "metadata": {
        "id": "s1ahK82Y1oD-"
      },
      "source": [
        "# DATA AUGMENTATION"
      ]
    },
    {
      "cell_type": "markdown",
      "metadata": {
        "id": "u3xW8-Afiy1x"
      },
      "source": [
        "les fonctions de data augmentation suivent toutes la même logique de fonctionnement :\n",
        "- elles prennent en entrée une liste de path vers des images\n",
        "- ces images sont au format 768 * 768\n",
        "- elles retournent la liste des images process correspondantes"
      ]
    },
    {
      "cell_type": "code",
      "execution_count": null,
      "metadata": {
        "id": "9kFJKYGz5FKu"
      },
      "outputs": [],
      "source": [
        "def crop_image(image):\n",
        "    # Calculate the maximum top-left corner for a 400x400 crop\n",
        "    image = image.resize((768,768))\n",
        "    max_x = 768 - 450\n",
        "    max_y = 768 - 450\n",
        "\n",
        "\n",
        "          # Randomly select the top-left corner\n",
        "    left = random.randint(0, max_x)\n",
        "    top = random.randint(0, max_y)\n",
        "    right = left + 450\n",
        "    bottom = top + 450\n",
        "\n",
        "          # Crop the image\n",
        "    cropped_image = image.crop((left, top, right, bottom))\n",
        "\n",
        "    return cropped_image"
      ]
    },
    {
      "cell_type": "code",
      "execution_count": null,
      "metadata": {
        "id": "C0nBtE-XUPuY"
      },
      "outputs": [],
      "source": [
        "def crop_images_1024(image, multiplicateur):\n",
        "    cropped_images = []\n",
        "\n",
        "\n",
        "        # Ensure the image is in 768x768 format\n",
        "    if image.size != (1024, 1024):\n",
        "        raise ValueError(f\"Image at {path} is not in 768x768 format\")\n",
        "\n",
        "        # Calculate the maximum top-left corner for a 400x400 crop\n",
        "    max_x = 1024 - 300\n",
        "    max_y = 1024 - 300\n",
        "\n",
        "    for i in range(multiplicateur):\n",
        "      # Randomly select the top-left corner\n",
        "      left = random.randint(0, max_x)\n",
        "      top = random.randint(0, max_y)\n",
        "      right = left + 300\n",
        "      bottom = top + 300\n",
        "\n",
        "          # Crop the image\n",
        "      cropped_image = image.crop((left, top, right, bottom))\n",
        "\n",
        "          # Add the cropped image to the list\n",
        "      cropped_images.append(cropped_image)\n",
        "\n",
        "    return cropped_images"
      ]
    },
    {
      "cell_type": "code",
      "execution_count": null,
      "metadata": {
        "id": "-4atfCzA_ZVP"
      },
      "outputs": [],
      "source": [
        "def image_with_noise_768(image, std=25, size=300):\n",
        "    images_with_noise = []\n",
        "    if image.size != (768, 768):\n",
        "        raise ValueError(f\"Image at {path} is not in 768x768 format\")\n",
        "\n",
        "    image = np.array(image)\n",
        "    noise = np.random.normal(0, std, (size, size, 3)).astype(np.uint8)\n",
        "\n",
        "    noise = Image.fromarray(noise)\n",
        "\n",
        "    resized_noise = noise.resize((768, 768))\n",
        "\n",
        "    resized_noise = np.array(resized_noise)\n",
        "\n",
        "        # Add the noise to the image\n",
        "    noisy_image = image + resized_noise\n",
        "\n",
        "        # Clip the values to be in the valid range [0, 255]\n",
        "    noisy_image = np.clip(noisy_image, 0, 255).astype(np.uint8)\n",
        "\n",
        "        # Convert back to PIL image\n",
        "    noisy_image = Image.fromarray(noisy_image)\n",
        "\n",
        "    images_with_noise.append(noisy_image)\n",
        "\n",
        "    return images_with_noise"
      ]
    },
    {
      "cell_type": "code",
      "execution_count": null,
      "metadata": {
        "id": "6PAhoLHlTpwo"
      },
      "outputs": [],
      "source": [
        "def image_with_noise_1024(image, std=25, size=400):\n",
        "    images_with_noise = []\n",
        "\n",
        "        # Ensure the image is in 768x768 format\n",
        "    if image.size != (1024, 1024):\n",
        "         raise ValueError(f\"Image at {path} is not in 768x768 format\")\n",
        "\n",
        "    image = np.array(image)\n",
        "    noise = np.random.normal(0, std, (size, size, 3)).astype(np.uint8)\n",
        "\n",
        "    noise = Image.fromarray(noise)\n",
        "\n",
        "    resized_noise = noise.resize((1024, 1024))\n",
        "\n",
        "    resized_noise = np.array(resized_noise)\n",
        "\n",
        "        # Add the noise to the image\n",
        "    noisy_image = image + resized_noise\n",
        "\n",
        "        # Clip the values to be in the valid range [0, 255]\n",
        "    noisy_image = np.clip(noisy_image, 0, 255).astype(np.uint8)\n",
        "\n",
        "        # Convert back to PIL image\n",
        "    noisy_image = Image.fromarray(noisy_image)\n",
        "\n",
        "    images_with_noise.append(noisy_image)\n",
        "\n",
        "    return images_with_noise"
      ]
    },
    {
      "cell_type": "code",
      "execution_count": null,
      "metadata": {
        "id": "Hz9CbWoLjxJZ"
      },
      "outputs": [],
      "source": [
        "def grey_image(image):\n",
        "    return image.convert('L')"
      ]
    },
    {
      "cell_type": "code",
      "execution_count": null,
      "metadata": {
        "id": "zqu0jNtqaZUy"
      },
      "outputs": [],
      "source": [
        "def downscaled_image(image, factor=0.3):\n",
        "  new_width = int(image.width * factor)\n",
        "  new_height = int(image.height * factor)\n",
        "  new_size = (new_width, new_height)\n",
        "  downscaled_image = image.resize(new_size)\n",
        "  ret_image = downscaled_image.resize(image.size)\n",
        "  return ret_image"
      ]
    },
    {
      "cell_type": "markdown",
      "metadata": {
        "id": "FNKTxORp_HVJ"
      },
      "source": [
        "# PIPELINE DE DATA AUGMENTATION"
      ]
    },
    {
      "cell_type": "markdown",
      "metadata": {
        "id": "6mfis9Hp_Ka6"
      },
      "source": [
        "- pour chaque image, rajouter 3 sous crops de l'image, puis les resize au meme format"
      ]
    },
    {
      "cell_type": "code",
      "execution_count": null,
      "metadata": {
        "id": "L4mM1BAzidDF"
      },
      "outputs": [],
      "source": [
        "base_path = '/content/drive/MyDrive/cheese_classification_challenge-master/dataset/train'\n",
        "for item in os.listdir(base_path):\n",
        "    print(os.path.join(base_path,item))"
      ]
    },
    {
      "cell_type": "code",
      "source": [
        "def process_in_folder(folder_path):\n",
        "  img_names = os.listdir(folder_path).copy()\n",
        "  for img_name in img_names:\n",
        "    # on ajoute une image crop, une image crop en niveau de gris, et l'image de base downsampler\n",
        "    img_name = os.path.splitext(img_name)[0]\n",
        "    img_path = os.path.join(folder_path, img_name) +'.png'\n",
        "    print(img_path)\n",
        "    img_init = Image.open(img_path)\n",
        "\n",
        "    crop_img = crop_image(img_init)\n",
        "    grey_img = grey_image(crop_image(img_init))\n",
        "    downs_img = downscaled_image(crop_image(img_init), factor=0.2)\n",
        "\n",
        "    path = img_path.replace('.png', '')\n",
        "    path1 = path + 'crop' + '.png'\n",
        "\n",
        "    path2 = path  + 'grey' + '.png'\n",
        "    path3 = path  + 'downs' + '.png'\n",
        "\n",
        "    crop_img.save(path1)\n",
        "    grey_img.save(path2)\n",
        "    downs_img.save(path3)"
      ],
      "metadata": {
        "id": "S0CFX_p7bleO"
      },
      "execution_count": null,
      "outputs": []
    },
    {
      "cell_type": "code",
      "execution_count": null,
      "metadata": {
        "colab": {
          "base_uri": "https://localhost:8080/"
        },
        "id": "_9P4gTbUiWgF",
        "outputId": "0d669a29-1ab1-4dc2-ec9f-92ce485faf15",
        "collapsed": true
      },
      "outputs": [
        {
          "name": "stdout",
          "output_type": "stream",
          "text": [
            "Folder: CABECOU\n",
            "158\n",
            "Folder: CAMEMBERT\n",
            "163\n",
            "Folder: CHABICHOU\n",
            "115\n",
            "Folder: CHEDDAR\n",
            "168\n",
            "Folder: CHÈVRE\n",
            "162\n",
            "Folder: COMTÉ\n",
            "143\n",
            "Folder: EMMENTAL\n",
            "108\n",
            "Folder: EPOISSES\n",
            "146\n",
            "Folder: FETA\n",
            "150\n",
            "Folder: FOURME DAMBERT\n",
            "156\n",
            "Folder: FROMAGE FRAIS\n",
            "123\n",
            "Folder: MAROILLES\n",
            "151\n",
            "Folder: MIMOLETTE\n",
            "196\n",
            "Folder: MONT D’OR\n",
            "117\n",
            "Folder: MOTHAIS\n",
            "136\n",
            "Folder: MOZZARELLA\n",
            "176\n",
            "Folder: MUNSTER\n",
            "127\n",
            "Folder: NEUFCHATEL\n",
            "133\n",
            "Folder: OSSAU- IRATY\n",
            "186\n",
            "Folder: PARMESAN\n",
            "146\n",
            "Folder: PECORINO\n",
            "167\n",
            "Folder: RACLETTE\n",
            "121\n",
            "Folder: POULIGNY SAINT- PIERRE\n",
            "113\n",
            "Folder: SAINT-NECTAIRE\n",
            "174\n",
            "Folder: SCARMOZA\n",
            "112\n",
            "Folder: STILTON\n",
            "160\n",
            "Folder: TÊTE DE MOINES\n",
            "157\n",
            "Folder: TOMME DE VACHE\n",
            "141\n",
            "Folder: VACHERIN\n",
            "159\n",
            "Folder: MORBIER\n",
            "160\n",
            "Folder: ROQUEFORT\n",
            "198\n",
            "Folder: REBLOCHON\n",
            "152\n",
            "Folder: SAINT- FÉLICIEN\n",
            "176\n",
            "Folder: BRIE DE MELUN\n",
            "154\n",
            "Folder: GRUYÈRE\n",
            "122\n"
          ]
        }
      ],
      "source": [
        "for item in os.listdir(base_path):\n",
        "    # Check if the item is a directory\n",
        "    if os.path.isdir(os.path.join(base_path, item)):\n",
        "        print(\"Folder:\", item)\n",
        "        label = item\n",
        "        folder_dir = '/content/drive/MyDrive/cheese_classification_challenge-master/dataset/merge/' + label\n",
        "        i = 0\n",
        "        path_save = '/content/drive/MyDrive/cheese_classification_challenge-master/merge/' + label\n",
        "        if not os.path.exists(path_save):\n",
        "          os.mkdir(path_save)\n",
        "        images = Path(folder_dir).glob('*.png')\n",
        "        for image_path in images:\n",
        "            image = Image.open(image_path)\n",
        "            image_array=np.array(image)\n",
        "            if(image_array.shape == (768, 768, 3)):\n",
        "              img2 = crop_images_768(image, 4)\n",
        "              img4 = grey_images(image)\n",
        "              for im in img2:\n",
        "                im.save(path_save + '/im_augmented_crop' + str(i) + '.png')\n",
        "              for im in img4:\n",
        "                im.save(path_save + '/im_augmented_black' + str(i) + '.png')\n",
        "              i+= 1\n",
        "            if(image_array.shape == (1024, 1024, 3)):\n",
        "              img2 = crop_images_1024(image, 4)\n",
        "              img4 = grey_images(image)\n",
        "              for im in img2:\n",
        "                im.save(path_save + '/im_augmented_crop' + str(i) + '.png')\n",
        "              for im in img4:\n",
        "                im.save(path_save + '/im_augmented_black' + str(i) + '.png')\n",
        "              i+= 1\n",
        "        print(i)"
      ]
    },
    {
      "cell_type": "markdown",
      "source": [
        "# Create submission"
      ],
      "metadata": {
        "id": "5icKorYNUPFz"
      }
    },
    {
      "cell_type": "code",
      "source": [
        "!python create_submition_with_ocr.py model=dinov2"
      ],
      "metadata": {
        "id": "w7IRWhL8SOci"
      },
      "execution_count": null,
      "outputs": []
    }
  ]
}