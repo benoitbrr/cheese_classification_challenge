{
  "cells": [
    {
      "cell_type": "code",
      "execution_count": 11,
      "metadata": {
        "id": "15epg1bRgIuS"
      },
      "outputs": [],
      "source": [
        "import PIL\n",
        "from PIL import Image\n",
        "import os\n",
        "from IPython.display import display\n",
        "from pathlib import Path\n",
        "import random\n",
        "import numpy as np\n",
        "import os\n",
        "import shutil"
      ]
    },
    {
      "cell_type": "markdown",
      "metadata": {
        "id": "s1ahK82Y1oD-"
      },
      "source": [
        "# DATA AUGMENTATION"
      ]
    },
    {
      "cell_type": "markdown",
      "metadata": {
        "id": "u3xW8-Afiy1x"
      },
      "source": [
        "les fonctions de data augmentation suivent toutes la même logique de fonctionnement :\n",
        "- elles prennent en entrée une liste de path vers des images\n",
        "- ces images sont au format 768 * 768\n",
        "- elles retournent la liste des images process correspondantes"
      ]
    },
    {
      "cell_type": "code",
      "execution_count": 38,
      "metadata": {
        "id": "9kFJKYGz5FKu"
      },
      "outputs": [],
      "source": [
        "def crop_image_768(image):\n",
        "    # Calculate the maximum top-left corner for a 400x400 crop\n",
        "    image = image.resize((768,768))\n",
        "    max_x = 768 - 450\n",
        "    max_y = 768 - 450\n",
        "\n",
        "\n",
        "          # Randomly select the top-left corner\n",
        "    left = random.randint(0, max_x)\n",
        "    top = random.randint(0, max_y)\n",
        "    right = left + 450\n",
        "    bottom = top + 450\n",
        "\n",
        "          # Crop the image\n",
        "    cropped_image = image.crop((left, top, right, bottom))\n",
        "\n",
        "    return cropped_image"
      ]
    },
    {
      "cell_type": "code",
      "execution_count": 37,
      "metadata": {},
      "outputs": [],
      "source": [
        "def crop_image_1024(image):\n",
        "    # Calculate the maximum top-left corner for a 400x400 crop\n",
        "    image = image.resize((1024,1024))\n",
        "    max_x = 1024 - 450\n",
        "    max_y = 1024 - 450\n",
        "\n",
        "\n",
        "          # Randomly select the top-left corner\n",
        "    left = random.randint(0, max_x)\n",
        "    top = random.randint(0, max_y)\n",
        "    right = left + 450\n",
        "    bottom = top + 450\n",
        "\n",
        "          # Crop the image\n",
        "    cropped_image = image.crop((left, top, right, bottom))\n",
        "\n",
        "    return cropped_image"
      ]
    },
    {
      "cell_type": "code",
      "execution_count": 32,
      "metadata": {
        "id": "-4atfCzA_ZVP"
      },
      "outputs": [],
      "source": [
        "def image_with_noise_768(image, std=25, size=300):\n",
        "    images_with_noise = []\n",
        "    if image.size != (768, 768):\n",
        "        raise ValueError(f\"Image at {path} is not in 768x768 format\")\n",
        "\n",
        "    image = np.array(image)\n",
        "    noise = np.random.normal(0, std, (size, size, 3)).astype(np.uint8)\n",
        "\n",
        "    noise = Image.fromarray(noise)\n",
        "\n",
        "    resized_noise = noise.resize((768, 768))\n",
        "\n",
        "    resized_noise = np.array(resized_noise)\n",
        "\n",
        "        # Add the noise to the image\n",
        "    noisy_image = image + resized_noise\n",
        "\n",
        "        # Clip the values to be in the valid range [0, 255]\n",
        "    noisy_image = np.clip(noisy_image, 0, 255).astype(np.uint8)\n",
        "\n",
        "        # Convert back to PIL image\n",
        "    noisy_image = Image.fromarray(noisy_image)\n",
        "\n",
        "    images_with_noise.append(noisy_image)\n",
        "\n",
        "    return images_with_noise"
      ]
    },
    {
      "cell_type": "code",
      "execution_count": 33,
      "metadata": {
        "id": "6PAhoLHlTpwo"
      },
      "outputs": [],
      "source": [
        "def image_with_noise_1024(image, std=25, size=400):\n",
        "    images_with_noise = []\n",
        "\n",
        "        # Ensure the image is in 768x768 format\n",
        "    if image.size != (1024, 1024):\n",
        "         raise ValueError(f\"Image at {path} is not in 768x768 format\")\n",
        "\n",
        "    image = np.array(image)\n",
        "    noise = np.random.normal(0, std, (size, size, 3)).astype(np.uint8)\n",
        "\n",
        "    noise = Image.fromarray(noise)\n",
        "\n",
        "    resized_noise = noise.resize((1024, 1024))\n",
        "\n",
        "    resized_noise = np.array(resized_noise)\n",
        "\n",
        "        # Add the noise to the image\n",
        "    noisy_image = image + resized_noise\n",
        "\n",
        "        # Clip the values to be in the valid range [0, 255]\n",
        "    noisy_image = np.clip(noisy_image, 0, 255).astype(np.uint8)\n",
        "\n",
        "        # Convert back to PIL image\n",
        "    noisy_image = Image.fromarray(noisy_image)\n",
        "\n",
        "    images_with_noise.append(noisy_image)\n",
        "\n",
        "    return images_with_noise"
      ]
    },
    {
      "cell_type": "code",
      "execution_count": 34,
      "metadata": {
        "id": "Hz9CbWoLjxJZ"
      },
      "outputs": [],
      "source": [
        "def grey_image(image):\n",
        "    return image.convert('L')"
      ]
    },
    {
      "cell_type": "code",
      "execution_count": 35,
      "metadata": {
        "id": "zqu0jNtqaZUy"
      },
      "outputs": [],
      "source": [
        "def downscaled_image(image, factor=0.3):\n",
        "  new_width = int(image.width * factor)\n",
        "  new_height = int(image.height * factor)\n",
        "  new_size = (new_width, new_height)\n",
        "  downscaled_image = image.resize(new_size)\n",
        "  ret_image = downscaled_image.resize(image.size)\n",
        "  return ret_image"
      ]
    },
    {
      "cell_type": "markdown",
      "metadata": {
        "id": "FNKTxORp_HVJ"
      },
      "source": [
        "# PIPELINE DE DATA AUGMENTATION"
      ]
    },
    {
      "cell_type": "markdown",
      "metadata": {
        "id": "6mfis9Hp_Ka6"
      },
      "source": [
        "- pour chaque image, rajouter 3 sous crops de l'image, puis les resize au meme format"
      ]
    },
    {
      "cell_type": "code",
      "execution_count": 39,
      "metadata": {
        "colab": {
          "base_uri": "https://localhost:8080/"
        },
        "collapsed": true,
        "id": "_9P4gTbUiWgF",
        "outputId": "0d669a29-1ab1-4dc2-ec9f-92ce485faf15"
      },
      "outputs": [
        {
          "name": "stdout",
          "output_type": "stream",
          "text": [
            "Folder: BEAUFORT\n",
            "237\n",
            "Folder: BRIE DE MELUN\n",
            "211\n",
            "Folder: BÛCHETTE DE CHÈVRE\n",
            "107\n",
            "Folder: CABECOU\n",
            "228\n",
            "Folder: CAMEMBERT\n",
            "209\n",
            "Folder: CHABICHOU\n",
            "180\n",
            "Folder: CHEDDAR\n",
            "173\n",
            "Folder: CHÈVRE\n",
            "173\n",
            "Folder: COMTÉ\n",
            "190\n",
            "Folder: EMMENTAL\n",
            "216\n",
            "Folder: EPOISSES\n",
            "223\n",
            "Folder: FETA\n",
            "214\n",
            "Folder: FOURME DAMBERT\n",
            "238\n",
            "Folder: FROMAGE FRAIS\n",
            "158\n",
            "Folder: GRUYÈRE\n",
            "119\n",
            "Folder: MAROILLES\n",
            "211\n",
            "Folder: MIMOLETTE\n",
            "225\n",
            "Folder: MONT D’OR\n",
            "202\n",
            "Folder: MORBIER\n",
            "225\n",
            "Folder: MOTHAIS\n",
            "195\n",
            "Folder: MOZZARELLA\n",
            "180\n",
            "Folder: MUNSTER\n",
            "117\n",
            "Folder: NEUFCHATEL\n",
            "167\n",
            "Folder: OSSAU- IRATY\n",
            "160\n",
            "Folder: PARMESAN\n",
            "216\n",
            "Folder: PECORINO\n",
            "152\n",
            "Folder: POULIGNY SAINT- PIERRE\n",
            "175\n",
            "Folder: RACLETTE\n",
            "189\n",
            "Folder: REBLOCHON\n",
            "78\n",
            "Folder: ROQUEFORT\n",
            "196\n",
            "Folder: SAINT- FÉLICIEN\n",
            "160\n",
            "Folder: SAINT-NECTAIRE\n",
            "138\n",
            "Folder: SCARMOZA\n",
            "161\n",
            "Folder: STILTON\n",
            "180\n",
            "Folder: TOMME DE VACHE\n",
            "110\n",
            "Folder: TÊTE DE MOINES\n",
            "138\n",
            "Folder: VACHERIN\n",
            "104\n"
          ]
        }
      ],
      "source": [
        "base_path = \"C:/Users/benbo/Downloads/Polytechnique/2A/INF473v/code_final/cheese_classification_challenge-master/dataset/train\"\n",
        "for item in os.listdir(base_path):\n",
        "    # Check if the item is a directory\n",
        "    if os.path.isdir(os.path.join(base_path, item)):\n",
        "        print(\"Folder:\", item)\n",
        "        label = item\n",
        "        folder_dir = \"C:/Users/benbo/Downloads/Polytechnique/2A/INF473v/code_final/cheese_classification_challenge-master/dataset/train/\" + label\n",
        "        i = 0\n",
        "        path_save = \"C:/Users/benbo/Downloads/Polytechnique/2A/INF473v/code_final/cheese_classification_challenge-master/dataset/augmented/\" + label\n",
        "        if not os.path.exists(path_save):\n",
        "          os.mkdir(path_save)\n",
        "        images = Path(folder_dir).glob('*.png')\n",
        "        for image_path in images:\n",
        "            image = Image.open(image_path)\n",
        "            image_array=np.array(image)\n",
        "            if(image_array.shape == (768, 768, 3)):\n",
        "              img2 = crop_image_768(image)\n",
        "              img4 = grey_image(image)\n",
        "              img2.save(path_save + '/im_augmented_crop' + str(i) + '.png')\n",
        "              img4.save(path_save + '/im_augmented_black' + str(i) + '.png')\n",
        "              i+= 1\n",
        "            if(image_array.shape == (1024, 1024, 3)):\n",
        "              img2 = crop_image_1024(image)\n",
        "              img4 = grey_image(image)\n",
        "              img2.save(path_save + '/im_augmented_crop' + str(i) + '.png')\n",
        "              img4.save(path_save + '/im_augmented_black' + str(i) + '.png')\n",
        "              i+= 1\n",
        "        print(i)"
      ]
    }
  ],
  "metadata": {
    "colab": {
      "collapsed_sections": [
        "YylM0Ox9Vo4k",
        "LN9RMKtIsIOd",
        "cj2PZsJfdQL9",
        "n0Z7GPS_hD_W",
        "5cRZlmnCQKmM"
      ],
      "machine_shape": "hm",
      "provenance": []
    },
    "kernelspec": {
      "display_name": "Python 3",
      "name": "python3"
    },
    "language_info": {
      "codemirror_mode": {
        "name": "ipython",
        "version": 3
      },
      "file_extension": ".py",
      "mimetype": "text/x-python",
      "name": "python",
      "nbconvert_exporter": "python",
      "pygments_lexer": "ipython3",
      "version": "3.10.6"
    }
  },
  "nbformat": 4,
  "nbformat_minor": 0
}
