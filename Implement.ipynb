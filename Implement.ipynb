{
  "cells": [
    {
      "cell_type": "code",
      "execution_count": null,
      "metadata": {
        "id": "ICn0QS5vuCia",
        "collapsed": true,
        "colab": {
          "base_uri": "https://localhost:8080/"
        },
        "outputId": "421ddf2b-ba40-4d0c-aeb0-c015ab686c41"
      },
      "outputs": [
        {
          "output_type": "stream",
          "name": "stdout",
          "text": []
        }
      ],
      "source": [
        "!pip install -r requirements.txt\n",
        "!pip install google.cloud\n",
        "!pip install google.cloud.vision\n",
        "!pip install ultralytics"
      ]
    },
    {
      "cell_type": "code",
      "execution_count": null,
      "metadata": {
        "id": "lRh9pUKUpR6e",
        "collapsed": true
      },
      "outputs": [],
      "source": [
        "!pip install xformers"
      ]
    },
    {
      "cell_type": "code",
      "execution_count": null,
      "metadata": {
        "collapsed": true,
        "id": "6BVW1fYIvEwU",
        "colab": {
          "base_uri": "https://localhost:8080/"
        },
        "outputId": "0082ff6a-a520-4ada-caf5-c59e82464064"
      },
      "outputs": [
        {
          "output_type": "stream",
          "name": "stdout",
          "text": [
            "/content/drive/MyDrive/PROJET/cheese_classification_challenge-master/train.py:22: UserWarning: \n",
            "The version_base parameter is not specified.\n",
            "Please specify a compatability version level, or None.\n",
            "Will assume defaults for version 1.1\n",
            "  @hydra.main(config_path=\"configs/train\", config_name=\"config\")\n",
            "/content/drive/MyDrive/PROJET/cheese_classification_challenge-master/train.py:110: UserWarning: \n",
            "The version_base parameter is not specified.\n",
            "Please specify a compatability version level, or None.\n",
            "Will assume defaults for version 1.1\n",
            "  @hydra.main(config_path=\"configs/train\", config_name=\"config\")\n",
            "La phase d'entrainement est lancée\n",
            "/usr/local/lib/python3.10/dist-packages/hydra/_internal/defaults_list.py:251: UserWarning: In 'config': Defaults list is missing `_self_`. See https://hydra.cc/docs/1.2/upgrades/1.0_to_1.1/default_composition_order for more information\n",
            "  warnings.warn(msg, UserWarning)\n",
            "\u001b[34m\u001b[1mwandb\u001b[0m: (1) Create a W&B account\n",
            "\u001b[34m\u001b[1mwandb\u001b[0m: (2) Use an existing W&B account\n",
            "\u001b[34m\u001b[1mwandb\u001b[0m: (3) Don't visualize my results\n",
            "\u001b[34m\u001b[1mwandb\u001b[0m: Enter your choice: 2\n",
            "\u001b[34m\u001b[1mwandb\u001b[0m: You chose 'Use an existing W&B account'\n",
            "\u001b[34m\u001b[1mwandb\u001b[0m: Logging into wandb.ai. (Learn how to deploy a W&B server locally: https://wandb.me/wandb-server)\n",
            "\u001b[34m\u001b[1mwandb\u001b[0m: You can find your API key in your browser here: https://wandb.ai/authorize\n",
            "\u001b[34m\u001b[1mwandb\u001b[0m: Paste an API key from your profile and hit enter, or press ctrl+c to quit: \n",
            "\u001b[34m\u001b[1mwandb\u001b[0m: Appending key for api.wandb.ai to your netrc file: /root/.netrc\n",
            "\u001b[34m\u001b[1mwandb\u001b[0m: Tracking run with wandb version 0.17.0\n",
            "\u001b[34m\u001b[1mwandb\u001b[0m: Run data is saved locally in \u001b[35m\u001b[1m/content/drive/MyDrive/PROJET/cheese_classification_challenge-master/outputs/train/2024-05-30_16-15-54/wandb/run-20240530_161600-7l8y1id5\u001b[0m\n",
            "\u001b[34m\u001b[1mwandb\u001b[0m: Run \u001b[1m`wandb offline`\u001b[0m to turn off syncing.\n",
            "\u001b[34m\u001b[1mwandb\u001b[0m: Syncing run \u001b[33mDINOV2_test_prompts\u001b[0m\n",
            "\u001b[34m\u001b[1mwandb\u001b[0m: ⭐️ View project at \u001b[34m\u001b[4mhttps://wandb.ai/nathan_bs/challenge_cheese\u001b[0m\n",
            "\u001b[34m\u001b[1mwandb\u001b[0m: 🚀 View run at \u001b[34m\u001b[4mhttps://wandb.ai/nathan_bs/challenge_cheese/runs/7l8y1id5\u001b[0m\n",
            "Downloading: \"https://github.com/facebookresearch/dinov2/zipball/main\" to /root/.cache/torch/hub/main.zip\n",
            "/root/.cache/torch/hub/facebookresearch_dinov2_main/dinov2/layers/swiglu_ffn.py:43: UserWarning: xFormers is available (SwiGLU)\n",
            "  warnings.warn(\"xFormers is available (SwiGLU)\")\n",
            "/root/.cache/torch/hub/facebookresearch_dinov2_main/dinov2/layers/attention.py:27: UserWarning: xFormers is available (Attention)\n",
            "  warnings.warn(\"xFormers is available (Attention)\")\n",
            "/root/.cache/torch/hub/facebookresearch_dinov2_main/dinov2/layers/block.py:33: UserWarning: xFormers is available (Block)\n",
            "  warnings.warn(\"xFormers is available (Block)\")\n",
            "[2024-05-30 16:16:04,713][dinov2][INFO] - using MLP layer as FFN\n",
            "Downloading: \"https://dl.fbaipublicfiles.com/dinov2/dinov2_vitb14/dinov2_vitb14_reg4_pretrain.pth\" to /root/.cache/torch/hub/checkpoints/dinov2_vitb14_reg4_pretrain.pth\n",
            "100% 330M/330M [00:01<00:00, 182MB/s]\n",
            "  0% 0/20 [00:00<?, ?it/s]Batch_size =  128\n",
            "Batch_size =  128\n",
            "/usr/local/lib/python3.10/dist-packages/PIL/Image.py:996: UserWarning: Palette images with Transparency expressed in bytes should be converted to RGBA images\n",
            "  warnings.warn(\n",
            "Batch_size =  128\n",
            "  5% 1/20 [04:36<1:27:38, 276.75s/it]/usr/local/lib/python3.10/dist-packages/PIL/Image.py:996: UserWarning: Palette images with Transparency expressed in bytes should be converted to RGBA images\n",
            "  warnings.warn(\n",
            " 10% 2/20 [05:35<44:30, 148.33s/it]  /usr/local/lib/python3.10/dist-packages/PIL/Image.py:996: UserWarning: Palette images with Transparency expressed in bytes should be converted to RGBA images\n",
            "  warnings.warn(\n",
            " 15% 3/20 [06:33<30:23, 107.26s/it]/usr/local/lib/python3.10/dist-packages/PIL/Image.py:996: UserWarning: Palette images with Transparency expressed in bytes should be converted to RGBA images\n",
            "  warnings.warn(\n",
            " 20% 4/20 [07:31<23:24, 87.80s/it] /usr/local/lib/python3.10/dist-packages/PIL/Image.py:996: UserWarning: Palette images with Transparency expressed in bytes should be converted to RGBA images\n",
            "  warnings.warn(\n",
            " 25% 5/20 [08:29<19:17, 77.18s/it]/usr/local/lib/python3.10/dist-packages/PIL/Image.py:996: UserWarning: Palette images with Transparency expressed in bytes should be converted to RGBA images\n",
            "  warnings.warn(\n",
            " 30% 6/20 [09:28<16:30, 70.77s/it]/usr/local/lib/python3.10/dist-packages/PIL/Image.py:996: UserWarning: Palette images with Transparency expressed in bytes should be converted to RGBA images\n",
            "  warnings.warn(\n",
            " 35% 7/20 [10:26<14:26, 66.65s/it]/usr/local/lib/python3.10/dist-packages/PIL/Image.py:996: UserWarning: Palette images with Transparency expressed in bytes should be converted to RGBA images\n",
            "  warnings.warn(\n",
            " 40% 8/20 [11:24<12:47, 63.96s/it]/usr/local/lib/python3.10/dist-packages/PIL/Image.py:996: UserWarning: Palette images with Transparency expressed in bytes should be converted to RGBA images\n",
            "  warnings.warn(\n",
            " 45% 9/20 [12:22<11:23, 62.14s/it]/usr/local/lib/python3.10/dist-packages/PIL/Image.py:996: UserWarning: Palette images with Transparency expressed in bytes should be converted to RGBA images\n",
            "  warnings.warn(\n",
            " 50% 10/20 [13:20<10:09, 60.92s/it]/usr/local/lib/python3.10/dist-packages/PIL/Image.py:996: UserWarning: Palette images with Transparency expressed in bytes should be converted to RGBA images\n",
            "  warnings.warn(\n",
            " 55% 11/20 [14:19<09:01, 60.12s/it]/usr/local/lib/python3.10/dist-packages/PIL/Image.py:996: UserWarning: Palette images with Transparency expressed in bytes should be converted to RGBA images\n",
            "  warnings.warn(\n",
            " 60% 12/20 [15:17<07:57, 59.65s/it]/usr/local/lib/python3.10/dist-packages/PIL/Image.py:996: UserWarning: Palette images with Transparency expressed in bytes should be converted to RGBA images\n",
            "  warnings.warn(\n",
            " 65% 13/20 [16:16<06:55, 59.34s/it]/usr/local/lib/python3.10/dist-packages/PIL/Image.py:996: UserWarning: Palette images with Transparency expressed in bytes should be converted to RGBA images\n",
            "  warnings.warn(\n",
            " 70% 14/20 [17:14<05:54, 59.07s/it]/usr/local/lib/python3.10/dist-packages/PIL/Image.py:996: UserWarning: Palette images with Transparency expressed in bytes should be converted to RGBA images\n",
            "  warnings.warn(\n",
            " 75% 15/20 [18:13<04:54, 58.81s/it]/usr/local/lib/python3.10/dist-packages/PIL/Image.py:996: UserWarning: Palette images with Transparency expressed in bytes should be converted to RGBA images\n",
            "  warnings.warn(\n",
            " 80% 16/20 [19:11<03:54, 58.64s/it]/usr/local/lib/python3.10/dist-packages/PIL/Image.py:996: UserWarning: Palette images with Transparency expressed in bytes should be converted to RGBA images\n",
            "  warnings.warn(\n",
            " 85% 17/20 [20:09<02:55, 58.61s/it]/usr/local/lib/python3.10/dist-packages/PIL/Image.py:996: UserWarning: Palette images with Transparency expressed in bytes should be converted to RGBA images\n",
            "  warnings.warn(\n",
            " 90% 18/20 [21:08<01:57, 58.60s/it]/usr/local/lib/python3.10/dist-packages/PIL/Image.py:996: UserWarning: Palette images with Transparency expressed in bytes should be converted to RGBA images\n",
            "  warnings.warn(\n",
            " 95% 19/20 [22:06<00:58, 58.52s/it]/usr/local/lib/python3.10/dist-packages/PIL/Image.py:996: UserWarning: Palette images with Transparency expressed in bytes should be converted to RGBA images\n",
            "  warnings.warn(\n",
            "100% 20/20 [23:05<00:00, 69.27s/it]\n",
            "\u001b[34m\u001b[1mwandb\u001b[0m: \n",
            "\u001b[34m\u001b[1mwandb\u001b[0m: Run history:\n",
            "\u001b[34m\u001b[1mwandb\u001b[0m:              epoch ▁▁▁▁▂▂▂▂▂▂▃▃▃▃▄▄▄▄▄▄▅▅▅▅▅▅▆▆▆▆▇▇▇▇▇▇████\n",
            "\u001b[34m\u001b[1mwandb\u001b[0m:               loss █▄▃▃▂▂▂▁▁▁▁▁▁▁▁▁▁▁▁▁▁▁▁▁▁▁▁▁▁▁▁▁▁▁▁▁▁▁▁▁\n",
            "\u001b[34m\u001b[1mwandb\u001b[0m:       real_val/acc ▁▅▅▆▇███████████████\n",
            "\u001b[34m\u001b[1mwandb\u001b[0m:      real_val/loss █▄▃▂▁▁▁▁▁▁▁▁▁▁▂▂▂▂▂▂\n",
            "\u001b[34m\u001b[1mwandb\u001b[0m:  synthetic_val/acc ▁▅▆▇▇███████████████\n",
            "\u001b[34m\u001b[1mwandb\u001b[0m: synthetic_val/loss █▄▃▂▂▁▁▁▁▁▁▁▁▁▁▁▁▁▁▁\n",
            "\u001b[34m\u001b[1mwandb\u001b[0m:          train_acc ▁▅▇▇████████████████\n",
            "\u001b[34m\u001b[1mwandb\u001b[0m:   train_loss_epoch █▄▂▂▁▁▁▁▁▁▁▁▁▁▁▁▁▁▁▁\n",
            "\u001b[34m\u001b[1mwandb\u001b[0m: \n",
            "\u001b[34m\u001b[1mwandb\u001b[0m: Run summary:\n",
            "\u001b[34m\u001b[1mwandb\u001b[0m:              epoch 19\n",
            "\u001b[34m\u001b[1mwandb\u001b[0m:               loss 0.37695\n",
            "\u001b[34m\u001b[1mwandb\u001b[0m:       real_val/acc 0.69127\n",
            "\u001b[34m\u001b[1mwandb\u001b[0m:      real_val/loss 1.55759\n",
            "\u001b[34m\u001b[1mwandb\u001b[0m:  synthetic_val/acc 0.90465\n",
            "\u001b[34m\u001b[1mwandb\u001b[0m: synthetic_val/loss 0.7174\n",
            "\u001b[34m\u001b[1mwandb\u001b[0m:          train_acc 1.0\n",
            "\u001b[34m\u001b[1mwandb\u001b[0m:   train_loss_epoch 0.37747\n",
            "\u001b[34m\u001b[1mwandb\u001b[0m: \n",
            "\u001b[34m\u001b[1mwandb\u001b[0m: 🚀 View run \u001b[33mDINOV2_test_prompts\u001b[0m at: \u001b[34m\u001b[4mhttps://wandb.ai/nathan_bs/challenge_cheese/runs/7l8y1id5\u001b[0m\n",
            "\u001b[34m\u001b[1mwandb\u001b[0m: ⭐️ View project at: \u001b[34m\u001b[4mhttps://wandb.ai/nathan_bs/challenge_cheese\u001b[0m\n",
            "\u001b[34m\u001b[1mwandb\u001b[0m: Synced 5 W&B file(s), 40 media file(s), 40 artifact file(s) and 0 other file(s)\n",
            "\u001b[34m\u001b[1mwandb\u001b[0m: Find logs at: \u001b[35m\u001b[1m./wandb/run-20240530_161600-7l8y1id5/logs\u001b[0m\n"
          ]
        }
      ],
      "source": [
        "!python train.py"
      ]
    },
    {
      "cell_type": "code",
      "execution_count": null,
      "metadata": {
        "id": "n_lC5G5yvJmK"
      },
      "outputs": [],
      "source": [
        "!python generate.py"
      ]
    },
    {
      "cell_type": "code",
      "execution_count": null,
      "metadata": {
        "id": "cXPPkn7TO6aG",
        "colab": {
          "base_uri": "https://localhost:8080/"
        },
        "outputId": "d8f894eb-cfbe-442b-de4c-5f0c822a8f31"
      },
      "outputs": [
        {
          "output_type": "stream",
          "name": "stdout",
          "text": [
            "/content/drive/MyDrive/PROJET/cheese_classification_challenge-master/create_submition_with_ocr.py:233: UserWarning: \n",
            "The version_base parameter is not specified.\n",
            "Please specify a compatability version level, or None.\n",
            "Will assume defaults for version 1.1\n",
            "  @hydra.main(config_path=\"configs/train\", config_name=\"config\")\n",
            "\n",
            "\n",
            "Lors de cet entrainement, voici la valeur des paramètres :\n",
            "using_model : True\n",
            "borne_inf : 0.5\n",
            "freq : 15\n",
            "verbose : False\n",
            "breaker : False\n",
            "max_iter : 25\n",
            "\n",
            "\n",
            "/usr/local/lib/python3.10/dist-packages/hydra/_internal/defaults_list.py:251: UserWarning: In 'config': Defaults list is missing `_self_`. See https://hydra.cc/docs/1.2/upgrades/1.0_to_1.1/default_composition_order for more information\n",
            "  warnings.warn(msg, UserWarning)\n",
            "Using cache found in /root/.cache/torch/hub/facebookresearch_dinov2_main\n",
            "/root/.cache/torch/hub/facebookresearch_dinov2_main/dinov2/layers/swiglu_ffn.py:43: UserWarning: xFormers is available (SwiGLU)\n",
            "  warnings.warn(\"xFormers is available (SwiGLU)\")\n",
            "/root/.cache/torch/hub/facebookresearch_dinov2_main/dinov2/layers/attention.py:27: UserWarning: xFormers is available (Attention)\n",
            "  warnings.warn(\"xFormers is available (Attention)\")\n",
            "/root/.cache/torch/hub/facebookresearch_dinov2_main/dinov2/layers/block.py:33: UserWarning: xFormers is available (Block)\n",
            "  warnings.warn(\"xFormers is available (Block)\")\n",
            "[2024-05-30 16:41:49,652][dinov2][INFO] - using MLP layer as FFN\n",
            "Loading model from checkpoint: /content/drive/MyDrive/PROJET/cheese_classification_challenge-master/checkpoints/DINOV2_test_prompts.pt\n",
            "Dans ce batch, 19.53125% des images ont un label selon notre modèle d'OCR\n",
            "Dans ce batch, 3.125% des images ont la même prédiction par le modèle que par l'OCR\n",
            "Dans ce batch, 0.0% des images ont une prédiction qui vient de YOLO\n",
            "\n",
            "\n",
            "Dans ce batch, 14.84375% des images ont un label selon notre modèle d'OCR\n",
            "Dans ce batch, 5.46875% des images ont la même prédiction par le modèle que par l'OCR\n",
            "Dans ce batch, 0.0% des images ont une prédiction qui vient de YOLO\n",
            "\n",
            "\n",
            "Dans ce batch, 23.4375% des images ont un label selon notre modèle d'OCR\n",
            "Dans ce batch, 7.03125% des images ont la même prédiction par le modèle que par l'OCR\n",
            "Dans ce batch, 0.0% des images ont une prédiction qui vient de YOLO\n",
            "\n",
            "\n",
            "Dans ce batch, 18.75% des images ont un label selon notre modèle d'OCR\n",
            "Dans ce batch, 8.59375% des images ont la même prédiction par le modèle que par l'OCR\n",
            "Dans ce batch, 0.0% des images ont une prédiction qui vient de YOLO\n",
            "\n",
            "\n"
          ]
        }
      ],
      "source": [
        "!python create_submition_with_ocr.py model=dinov2"
      ]
    }
  ],
  "metadata": {
    "colab": {
      "machine_shape": "hm",
      "provenance": [],
      "gpuType": "T4"
    },
    "kernelspec": {
      "display_name": "Python 3",
      "name": "python3"
    },
    "language_info": {
      "name": "python"
    },
    "accelerator": "GPU"
  },
  "nbformat": 4,
  "nbformat_minor": 0
}
