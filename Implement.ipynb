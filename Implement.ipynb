{
  "cells": [
    {
      "cell_type": "code",
      "execution_count": null,
      "metadata": {
        "id": "ICn0QS5vuCia",
        "collapsed": true,
        "colab": {
          "base_uri": "https://localhost:8080/"
        },
        "outputId": "421ddf2b-ba40-4d0c-aeb0-c015ab686c41"
      },
      "outputs": [
        {
          "output_type": "stream",
          "name": "stdout",
          "text": []
        }
      ],
      "source": [
        "!pip install -r requirements.txt\n",
        "!pip install google.cloud\n",
        "!pip install google.cloud.vision\n",
        "!pip install ultralytics"
      ]
    },
    {
      "cell_type": "code",
      "execution_count": null,
      "metadata": {
        "id": "lRh9pUKUpR6e",
        "collapsed": true
      },
      "outputs": [],
      "source": [
        "!pip install xformers"
      ]
    },
    {
      "cell_type": "code",
      "execution_count": null,
      "metadata": {
        "collapsed": true,
        "id": "6BVW1fYIvEwU",
        "colab": {
          "base_uri": "https://localhost:8080/"
        },
        "outputId": "0082ff6a-a520-4ada-caf5-c59e82464064"
      },
      "outputs": [],
      "source": [
        "!python train.py"
      ]
    },
    {
      "cell_type": "code",
      "execution_count": null,
      "metadata": {
        "id": "n_lC5G5yvJmK"
      },
      "outputs": [],
      "source": [
        "!python generate.py"
      ]
    },
    {
      "cell_type": "code",
      "execution_count": null,
      "metadata": {
        "id": "cXPPkn7TO6aG",
        "colab": {
          "base_uri": "https://localhost:8080/"
        },
        "outputId": "d8f894eb-cfbe-442b-de4c-5f0c822a8f31"
      },
      "outputs": [],
      "source": [
        "!python create_submition_with_ocr.py model=dinov2"
      ]
    }
  ],
  "metadata": {
    "colab": {
      "machine_shape": "hm",
      "provenance": [],
      "gpuType": "T4"
    },
    "kernelspec": {
      "display_name": "Python 3",
      "name": "python3"
    },
    "language_info": {
      "name": "python"
    },
    "accelerator": "GPU"
  },
  "nbformat": 4,
  "nbformat_minor": 0
}
