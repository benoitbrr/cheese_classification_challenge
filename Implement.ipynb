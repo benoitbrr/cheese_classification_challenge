{
  "cells": [
    {
      "cell_type": "code",
      "execution_count": null,
      "metadata": {
        "id": "ICn0QS5vuCia",
        "collapsed": true,
        "colab": {
          "base_uri": "https://localhost:8080/"
        },
        "outputId": "421ddf2b-ba40-4d0c-aeb0-c015ab686c41"
      },
      "outputs": [
        {
          "output_type": "stream",
          "name": "stdout",
          "text": []
        }
      ],
      "source": [
        "!pip install -r requirements.txt\n",
        "!pip install google.cloud\n",
        "!pip install google.cloud.vision\n",
        "!pip install ultralytics"
      ]
    },
    {
      "cell_type": "code",
      "execution_count": null,
      "metadata": {
        "id": "lRh9pUKUpR6e",
        "collapsed": true
      },
      "outputs": [],
      "source": [
        "!pip install xformers"
      ]
    },
    {
      "cell_type": "code",
      "execution_count": null,
      "metadata": {
        "collapsed": true,
        "id": "6BVW1fYIvEwU",
        "colab": {
          "base_uri": "https://localhost:8080/"
        },
        "outputId": "0082ff6a-a520-4ada-caf5-c59e82464064"
      },
      "outputs": [],
      "source": [
        "!python train.py"
      ]
    },
    {
      "cell_type": "code",
      "execution_count": null,
      "metadata": {
        "id": "n_lC5G5yvJmK"
      },
      "outputs": [],
      "source": [
        "!python generate.py"
      ]
    },
    {
      "cell_type": "code",
      "execution_count": null,
      "metadata": {
        "id": "cXPPkn7TO6aG",
        "colab": {
          "base_uri": "https://localhost:8080/"
        },
        "outputId": "d8f894eb-cfbe-442b-de4c-5f0c822a8f31"
      },
      "outputs": [
        {
          "output_type": "stream",
          "name": "stdout",
          "text": [
            "/content/drive/MyDrive/PROJET/cheese_classification_challenge-master/create_submition_with_ocr.py:233: UserWarning: \n",
            "The version_base parameter is not specified.\n",
            "Please specify a compatability version level, or None.\n",
            "Will assume defaults for version 1.1\n",
            "  @hydra.main(config_path=\"configs/train\", config_name=\"config\")\n",
            "\n",
            "\n",
            "Lors de cet entrainement, voici la valeur des paramètres :\n",
            "using_model : True\n",
            "borne_inf : 0.5\n",
            "freq : 15\n",
            "verbose : False\n",
            "breaker : False\n",
            "max_iter : 25\n",
            "\n",
            "\n",
            "/usr/local/lib/python3.10/dist-packages/hydra/_internal/defaults_list.py:251: UserWarning: In 'config': Defaults list is missing `_self_`. See https://hydra.cc/docs/1.2/upgrades/1.0_to_1.1/default_composition_order for more information\n",
            "  warnings.warn(msg, UserWarning)\n",
            "Using cache found in /root/.cache/torch/hub/facebookresearch_dinov2_main\n",
            "/root/.cache/torch/hub/facebookresearch_dinov2_main/dinov2/layers/swiglu_ffn.py:43: UserWarning: xFormers is available (SwiGLU)\n",
            "  warnings.warn(\"xFormers is available (SwiGLU)\")\n",
            "/root/.cache/torch/hub/facebookresearch_dinov2_main/dinov2/layers/attention.py:27: UserWarning: xFormers is available (Attention)\n",
            "  warnings.warn(\"xFormers is available (Attention)\")\n",
            "/root/.cache/torch/hub/facebookresearch_dinov2_main/dinov2/layers/block.py:33: UserWarning: xFormers is available (Block)\n",
            "  warnings.warn(\"xFormers is available (Block)\")\n",
            "[2024-05-30 16:41:49,652][dinov2][INFO] - using MLP layer as FFN\n",
            "Loading model from checkpoint: /content/drive/MyDrive/PROJET/cheese_classification_challenge-master/checkpoints/DINOV2_test_prompts.pt\n",
            "Dans ce batch, 19.53125% des images ont un label selon notre modèle d'OCR\n",
            "Dans ce batch, 3.125% des images ont la même prédiction par le modèle que par l'OCR\n",
            "Dans ce batch, 0.0% des images ont une prédiction qui vient de YOLO\n",
            "\n",
            "\n",
            "Dans ce batch, 14.84375% des images ont un label selon notre modèle d'OCR\n",
            "Dans ce batch, 5.46875% des images ont la même prédiction par le modèle que par l'OCR\n",
            "Dans ce batch, 0.0% des images ont une prédiction qui vient de YOLO\n",
            "\n",
            "\n",
            "Dans ce batch, 23.4375% des images ont un label selon notre modèle d'OCR\n",
            "Dans ce batch, 7.03125% des images ont la même prédiction par le modèle que par l'OCR\n",
            "Dans ce batch, 0.0% des images ont une prédiction qui vient de YOLO\n",
            "\n",
            "\n",
            "Dans ce batch, 18.75% des images ont un label selon notre modèle d'OCR\n",
            "Dans ce batch, 8.59375% des images ont la même prédiction par le modèle que par l'OCR\n",
            "Dans ce batch, 0.0% des images ont une prédiction qui vient de YOLO\n",
            "\n",
            "\n"
          ]
        }
      ],
      "source": [
        "!python create_submition_with_ocr.py model=dinov2"
      ]
    }
  ],
  "metadata": {
    "colab": {
      "machine_shape": "hm",
      "provenance": [],
      "gpuType": "T4"
    },
    "kernelspec": {
      "display_name": "Python 3",
      "name": "python3"
    },
    "language_info": {
      "name": "python"
    },
    "accelerator": "GPU"
  },
  "nbformat": 4,
  "nbformat_minor": 0
}
